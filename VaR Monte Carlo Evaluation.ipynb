{
 "cells": [
  {
   "cell_type": "markdown",
   "metadata": {},
   "source": [
    "# VaR Monte Carlo Evaluation with Python"
   ]
  },
  {
   "cell_type": "markdown",
   "metadata": {},
   "source": [
    "In this notebook we evaluate the Value at Risk (VaR) of a certain stocks with the use of Monte Carlo methods on Python."
   ]
  },
  {
   "cell_type": "markdown",
   "metadata": {},
   "source": [
    "Let us have an asset  with price $S$ an compute it's daily returns. For simplicity,  we will work on the assumption that these returns follow a normal distribution, with mean $\\mu$ and standard deviation $\\sigma$. Then the following formula for calculating tomorrow's VaR:\n",
    "$$\n",
    "\\text{VaR} = S\\left(\\mu -\\sigma\\,\\alpha(1-c)\\right)\\,,\n",
    "$$\n",
    "where $c$ is the confidence level we choose to work with, and $c(x)$ is the percent point function for the standard normal distribution. If we want to compute the VaR over a period of time $T$, then the formula has to be modified to:\n",
    "$$\n",
    "\\text{VaR} = S\\left(\\mu\\,T-\\sigma\\,\\sqrt{T}\\alpha(1-c)\\right)\\,,\n",
    "$$"
   ]
  },
  {
   "cell_type": "code",
   "execution_count": 1,
   "metadata": {},
   "outputs": [],
   "source": [
    "import pandas as pd\n",
    "import numpy as np\n",
    "from scipy.stats import norm\n",
    "from pandas_datareader import data as pdr\n",
    "import yfinance as yf \n",
    "yf.pdr_override() \n",
    "import matplotlib.pyplot as plt\n",
    "import seaborn as sns\n",
    "%matplotlib inline\n",
    "sns.set()\n",
    "plt.style.use('fivethirtyeight')"
   ]
  },
  {
   "cell_type": "markdown",
   "metadata": {},
   "source": [
    "We will apply these formulas for the case of Apple stocks, APPL. We choose the time period between 2015-10-10 and 2018-01-01- We compute all the relevant quantities. "
   ]
  },
  {
   "cell_type": "code",
   "execution_count": 12,
   "metadata": {},
   "outputs": [],
   "source": [
    "def VaR(stock, s, start, end,c ,period):\n",
    "    \n",
    "    data = pdr.get_data_yahoo(stock, start=start, end=end)['Adj Close']\n",
    "    returns = (data/data.shift(1))-1\n",
    "    returns.dropna(inplace=True)\n",
    "    \n",
    "    mu = returns.mean()\n",
    "    sigma =returns.std()\n",
    "    alpha=norm.ppf(1-c)\n",
    "    \n",
    "    var = s*(mu*period - sigma*alpha*(period**0.5))\n",
    "    \n",
    "    print('\\n')\n",
    "    print('Stock: {}'.format(stock[0]))\n",
    "    print('Mu over {} days:'.format(period), mu*period)\n",
    "    print('Sigma over {} days:'.format(period), sigma*np.sqrt(period))\n",
    "    \n",
    "    print('VaR for {} with confidence {} over period of {} days: '.format(stock[0],c,period), var)"
   ]
  },
  {
   "cell_type": "markdown",
   "metadata": {},
   "source": [
    "We try with some stocks and time periods."
   ]
  },
  {
   "cell_type": "code",
   "execution_count": 20,
   "metadata": {},
   "outputs": [
    {
     "name": "stdout",
     "output_type": "stream",
     "text": [
      "[*********************100%***********************]  1 of 1 downloaded\n",
      "\n",
      "\n",
      "Stock: ^GSPC\n",
      "Mu over 1.0 days: 0.00037721678718513716\n",
      "Sigma over 1.0 days: 0.007772088045011574\n",
      "VaR for ^GSPC with confidence 0.95 over period of 1.0 days:  13.161163997008602\n"
     ]
    }
   ],
   "source": [
    "stock = ['^GSPC']\n",
    "start = pd.to_datetime('2015-01-01') \n",
    "end = pd.to_datetime('2018-01-01')\n",
    "s=1000\n",
    "c=0.95\n",
    "period =1.0\n",
    "\n",
    "VaR(stock, s, start, end,c ,period)"
   ]
  },
  {
   "cell_type": "code",
   "execution_count": 18,
   "metadata": {},
   "outputs": [
    {
     "name": "stdout",
     "output_type": "stream",
     "text": [
      "[*********************100%***********************]  1 of 1 downloaded\n",
      "\n",
      "\n",
      "Stock: ^GSPC\n",
      "Mu over 252.0 days: 0.09505863037065457\n",
      "Sigma over 252.0 days: 0.12337807280879283\n",
      "VaR for ^GSPC with confidence 0.95 over period of 252.0 days:  29.799750091648026\n"
     ]
    }
   ],
   "source": [
    "stock = ['^GSPC']\n",
    "start = pd.to_datetime('2015-01-01') \n",
    "end = pd.to_datetime('2018-01-01')\n",
    "s=100\n",
    "c=0.95\n",
    "period =252.0\n",
    "\n",
    "VaR(stock, s, start, end,c ,period)"
   ]
  },
  {
   "cell_type": "code",
   "execution_count": 19,
   "metadata": {},
   "outputs": [
    {
     "name": "stdout",
     "output_type": "stream",
     "text": [
      "[*********************100%***********************]  1 of 1 downloaded\n",
      "\n",
      "\n",
      "Stock: AAPL\n",
      "Mu over 1.0 days: 0.0007561794971024003\n",
      "Sigma over 1.0 days: 0.014417074284163165\n",
      "VaR for AAPL with confidence 0.95 over period of 1.0 days:  2.447015642343698\n"
     ]
    }
   ],
   "source": [
    "stock = ['AAPL']\n",
    "start = pd.to_datetime('2015-01-01') \n",
    "end = pd.to_datetime('2018-01-01')\n",
    "s=100\n",
    "c=0.95\n",
    "period =1.0\n",
    "\n",
    "VaR(stock, s, start, end,c ,period)"
   ]
  },
  {
   "cell_type": "code",
   "execution_count": 21,
   "metadata": {},
   "outputs": [
    {
     "name": "stdout",
     "output_type": "stream",
     "text": [
      "[*********************100%***********************]  1 of 1 downloaded\n",
      "\n",
      "\n",
      "Stock: AAPL\n",
      "Mu over 252 days: 0.19055723326980487\n",
      "Sigma over 252 days: 0.22886395913424173\n",
      "VaR for AAPL with confidence 0.95 over period of 252 days:  56.70049465302359\n"
     ]
    }
   ],
   "source": [
    "stock = ['AAPL']\n",
    "start = pd.to_datetime('2015-01-01') \n",
    "end = pd.to_datetime('2018-01-01')\n",
    "s=100\n",
    "c=0.95\n",
    "period =252\n",
    "\n",
    "VaR(stock, s, start, end,c ,period)"
   ]
  },
  {
   "cell_type": "code",
   "execution_count": 22,
   "metadata": {},
   "outputs": [
    {
     "name": "stdout",
     "output_type": "stream",
     "text": [
      "[*********************100%***********************]  1 of 1 downloaded\n",
      "\n",
      "\n",
      "Stock: GE\n",
      "Mu over 252 days: -0.0631523849211899\n",
      "Sigma over 252 days: 0.1995439407831885\n",
      "VaR for GE with confidence 0.95 over period of 252 days:  26.506818981222747\n"
     ]
    }
   ],
   "source": [
    "stock = ['GE']\n",
    "start = pd.to_datetime('2015-01-01') \n",
    "end = pd.to_datetime('2018-01-01')\n",
    "s=100\n",
    "c=0.95\n",
    "period =252\n",
    "\n",
    "VaR(stock, s, start, end,c ,period)"
   ]
  },
  {
   "cell_type": "markdown",
   "metadata": {},
   "source": [
    "# Monte Carlo Approach"
   ]
  },
  {
   "cell_type": "markdown",
   "metadata": {},
   "source": [
    "We now follow a Monte Carlo approach to VaR. We know that a given stock will follow a Wiener process. Then, given a period $T$, the stock price will follow the equation:\n",
    "$$\n",
    "S(T) = S(0)\\exp \\left(\\left(\\mu - \\frac{1}{2}\\sigma^{2}\\right)T + \\sigma \\sqrt{T}\\,z\\right)\\,,\n",
    "$$\n",
    "where $\\mu$ and$\\sigma$ can be obtained from a stock's historical information, and $z$ is a random number following a normal standard distibuition $N(0,1)$."
   ]
  },
  {
   "cell_type": "markdown",
   "metadata": {},
   "source": [
    "The idea then is to use Monte Carlo methods to produce a large collection of stock prices the last equation. Having these collection, we determine the percentile corresponding to the confidence level we want to work with: for example, if we have a confidence level $c = 95 \\%$, we have to find the lowest 5 percentile $S_{1-c}$. Then, the VaR will be given by:\n",
    "$$\n",
    "\\text{VaR}_{c} = S(0)-S_{1-c}\\,.\n",
    "$$"
   ]
  },
  {
   "cell_type": "code",
   "execution_count": 59,
   "metadata": {},
   "outputs": [],
   "source": [
    "def VaR_MC(stock, S, start, end,c ,period, iterations):\n",
    "    \n",
    "    data = pdr.get_data_yahoo(stock, start=start, end=end)['Adj Close']\n",
    "    returns = (data/data.shift(1))-1\n",
    "    returns.dropna(inplace=True)\n",
    "    \n",
    "    mu = returns.mean()\n",
    "    sigma =returns.std()\n",
    "    \n",
    "    z = np.random.normal(0, 1, [1, iterations])\n",
    "    \n",
    "    ST = S*np.exp(period*(mu - 0.5*sigma**2)+sigma*np.sqrt(period)*z)\n",
    "    \n",
    "    ST = np.sort(ST)\n",
    "    \n",
    "    Spc = np.percentile(ST,(1-c)*100)\n",
    "    \n",
    "    var = S - Spc\n",
    "    \n",
    "    \n",
    "    print('\\n')\n",
    "    print('Stock: {}'.format(stock[0]))\n",
    "    print('Mu over {} days:'.format(period), mu*period)\n",
    "    print('Sigma over {} days:'.format(period), sigma*np.sqrt(period))\n",
    "    \n",
    "    print('Monte Carlo VaR for {} with confidence {} over period of {} days: '.format(stock[0],c,period), var)"
   ]
  },
  {
   "cell_type": "markdown",
   "metadata": {},
   "source": [
    "We compute the Monte Carlo VaR for various stocks and compare with the formula computation. We try 10 million iterations."
   ]
  },
  {
   "cell_type": "code",
   "execution_count": 65,
   "metadata": {},
   "outputs": [
    {
     "name": "stdout",
     "output_type": "stream",
     "text": [
      "[*********************100%***********************]  1 of 1 downloaded\n",
      "\n",
      "\n",
      "Stock: AAPL\n",
      "Mu over 1 days: 0.0007561794971024003\n",
      "Sigma over 1 days: 0.014417074284163165\n",
      "Monte Carlo VaR for AAPL with confidence 0.95 over period of 1 days:  2.279317065330659\n"
     ]
    }
   ],
   "source": [
    "stock = ['AAPL']\n",
    "start = pd.to_datetime('2015-01-01') \n",
    "end = pd.to_datetime('2018-01-01')\n",
    "s=100\n",
    "c=0.95\n",
    "period =1\n",
    "iterations = 10000000\n",
    "\n",
    "\n",
    "VaR_MC(stock, s, start, end,c ,period, iterations)"
   ]
  },
  {
   "cell_type": "code",
   "execution_count": 62,
   "metadata": {},
   "outputs": [
    {
     "name": "stdout",
     "output_type": "stream",
     "text": [
      "[*********************100%***********************]  1 of 1 downloaded\n",
      "\n",
      "\n",
      "Stock: AAPL\n",
      "Mu over 1 days: 0.0007561794971024003\n",
      "Sigma over 1 days: 0.014417074284163165\n",
      "VaR for AAPL with confidence 0.95 over period of 1 days:  2.447015642343698\n"
     ]
    }
   ],
   "source": [
    "stock = ['AAPL']\n",
    "start = pd.to_datetime('2015-01-01') \n",
    "end = pd.to_datetime('2018-01-01')\n",
    "s=100\n",
    "c=0.95\n",
    "period =1\n",
    "#iterations = 100000\n",
    "\n",
    "\n",
    "VaR(stock, s, start, end,c ,period)"
   ]
  },
  {
   "cell_type": "markdown",
   "metadata": {},
   "source": [
    "We also check for 1 year of trading:"
   ]
  },
  {
   "cell_type": "code",
   "execution_count": 70,
   "metadata": {},
   "outputs": [
    {
     "name": "stdout",
     "output_type": "stream",
     "text": [
      "[*********************100%***********************]  1 of 1 downloaded\n",
      "\n",
      "\n",
      "Stock: AAPL\n",
      "Mu over 252 days: 0.19055723326980487\n",
      "Sigma over 252 days: 0.22886395913424173\n",
      "Monte Carlo VaR for AAPL with confidence 0.95 over period of 252 days:  19.116284626472023\n"
     ]
    }
   ],
   "source": [
    "stock = ['AAPL']\n",
    "start = pd.to_datetime('2015-01-01') \n",
    "end = pd.to_datetime('2018-01-01')\n",
    "s=100\n",
    "c=0.95\n",
    "period =252\n",
    "iterations = 10000000\n",
    "\n",
    "\n",
    "VaR_MC(stock, s, start, end,c ,period, iterations)"
   ]
  },
  {
   "cell_type": "code",
   "execution_count": 66,
   "metadata": {},
   "outputs": [
    {
     "name": "stdout",
     "output_type": "stream",
     "text": [
      "[*********************100%***********************]  1 of 1 downloaded\n",
      "\n",
      "\n",
      "Stock: AAPL\n",
      "Mu over 252 days: 0.19055723326980487\n",
      "Sigma over 252 days: 0.22886395913424173\n",
      "VaR for AAPL with confidence 0.95 over period of 252 days:  56.70049465302359\n"
     ]
    }
   ],
   "source": [
    "stock = ['AAPL']\n",
    "start = pd.to_datetime('2015-01-01') \n",
    "end = pd.to_datetime('2018-01-01')\n",
    "s=100\n",
    "c=0.95\n",
    "period =252\n",
    "#iterations = 100000\n",
    "\n",
    "\n",
    "VaR(stock, s, start, end,c ,period)"
   ]
  },
  {
   "cell_type": "code",
   "execution_count": 78,
   "metadata": {},
   "outputs": [
    {
     "name": "stdout",
     "output_type": "stream",
     "text": [
      "[*********************100%***********************]  1 of 1 downloaded\n",
      "\n",
      "\n",
      "Stock: ^GSPC\n",
      "Mu over 1 days: 0.00037721678718513716\n",
      "Sigma over 1 days: 0.007772088045011574\n",
      "Monte Carlo VaR for ^GSPC with confidence 0.95 over period of 1 days:  1.236261705139313\n"
     ]
    }
   ],
   "source": [
    "stock = ['^GSPC']\n",
    "start = pd.to_datetime('2015-01-01') \n",
    "end = pd.to_datetime('2018-01-01')\n",
    "s=100\n",
    "c=0.95\n",
    "period =1\n",
    "iterations = 10000000\n",
    "\n",
    "\n",
    "VaR_MC(stock, s, start, end,c ,period, iterations)"
   ]
  },
  {
   "cell_type": "code",
   "execution_count": 76,
   "metadata": {},
   "outputs": [
    {
     "name": "stdout",
     "output_type": "stream",
     "text": [
      "[*********************100%***********************]  1 of 1 downloaded\n",
      "\n",
      "\n",
      "Stock: ^GSPC\n",
      "Mu over 1 days: 0.00037721678718513716\n",
      "Sigma over 1 days: 0.007772088045011574\n",
      "VaR for ^GSPC with confidence 0.95 over period of 1 days:  1.3161163997008603\n"
     ]
    }
   ],
   "source": [
    "stock = ['^GSPC']\n",
    "start = pd.to_datetime('2015-01-01') \n",
    "end = pd.to_datetime('2018-01-01')\n",
    "s=100\n",
    "c=0.95\n",
    "period =1\n",
    "iterations = 1000000000\n",
    "\n",
    "\n",
    "VaR(stock, s, start, end,c ,period)"
   ]
  },
  {
   "cell_type": "markdown",
   "metadata": {},
   "source": [
    "So we see that for short periods there is good agreement between the different VaR computations. For longer periods, the formula for VaR seems to over estimate the VaR, but within the same order of magnitude as for the Monte Carlo simulation. "
   ]
  },
  {
   "cell_type": "code",
   "execution_count": null,
   "metadata": {},
   "outputs": [],
   "source": []
  }
 ],
 "metadata": {
  "kernelspec": {
   "display_name": "Python 3",
   "language": "python",
   "name": "python3"
  },
  "language_info": {
   "codemirror_mode": {
    "name": "ipython",
    "version": 3
   },
   "file_extension": ".py",
   "mimetype": "text/x-python",
   "name": "python",
   "nbconvert_exporter": "python",
   "pygments_lexer": "ipython3",
   "version": "3.6.8"
  }
 },
 "nbformat": 4,
 "nbformat_minor": 2
}
